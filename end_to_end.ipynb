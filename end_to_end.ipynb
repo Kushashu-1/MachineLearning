{
  "nbformat": 4,
  "nbformat_minor": 0,
  "metadata": {
    "colab": {
      "provenance": [],
      "mount_file_id": "1v2kOS5iqkdLfdf7j6V1-CytsPt8oIWs6",
      "authorship_tag": "ABX9TyNls9ficXsf+4lKh9ny2FfR",
      "include_colab_link": true
    },
    "kernelspec": {
      "name": "python3",
      "display_name": "Python 3"
    },
    "language_info": {
      "name": "python"
    }
  },
  "cells": [
    {
      "cell_type": "markdown",
      "metadata": {
        "id": "view-in-github",
        "colab_type": "text"
      },
      "source": [
        "<a href=\"https://colab.research.google.com/github/Kushashu-1/MachineLearning/blob/main/end_to_end.ipynb\" target=\"_parent\"><img src=\"https://colab.research.google.com/assets/colab-badge.svg\" alt=\"Open In Colab\"/></a>"
      ]
    },
    {
      "cell_type": "code",
      "execution_count": 1,
      "metadata": {
        "id": "qRRo6Da9x_w-"
      },
      "outputs": [],
      "source": [
        "import pandas as pd\n",
        "import numpy as np"
      ]
    },
    {
      "cell_type": "code",
      "source": [
        "df = pd.read_csv('/content/drive/MyDrive/Colab Notebooks/100_Days_ML/dataset/data.csv')\n",
        "df.head()"
      ],
      "metadata": {
        "colab": {
          "base_uri": "https://localhost:8080/",
          "height": 206
        },
        "id": "CY0upW9ByY5h",
        "outputId": "9b87f971-7702-4b4c-9cfe-81d5f54f4b11"
      },
      "execution_count": 20,
      "outputs": [
        {
          "output_type": "execute_result",
          "data": {
            "text/plain": [
              "   Unnamed: 0  cgpa     iq  placement\n",
              "0           0   6.8  123.0          1\n",
              "1           1   5.9  106.0          0\n",
              "2           2   5.3  121.0          0\n",
              "3           3   7.4  132.0          1\n",
              "4           4   5.8  142.0          0"
            ],
            "text/html": [
              "\n",
              "  <div id=\"df-ca3badde-3aff-4e55-b741-62d4d2f1fa55\" class=\"colab-df-container\">\n",
              "    <div>\n",
              "<style scoped>\n",
              "    .dataframe tbody tr th:only-of-type {\n",
              "        vertical-align: middle;\n",
              "    }\n",
              "\n",
              "    .dataframe tbody tr th {\n",
              "        vertical-align: top;\n",
              "    }\n",
              "\n",
              "    .dataframe thead th {\n",
              "        text-align: right;\n",
              "    }\n",
              "</style>\n",
              "<table border=\"1\" class=\"dataframe\">\n",
              "  <thead>\n",
              "    <tr style=\"text-align: right;\">\n",
              "      <th></th>\n",
              "      <th>Unnamed: 0</th>\n",
              "      <th>cgpa</th>\n",
              "      <th>iq</th>\n",
              "      <th>placement</th>\n",
              "    </tr>\n",
              "  </thead>\n",
              "  <tbody>\n",
              "    <tr>\n",
              "      <th>0</th>\n",
              "      <td>0</td>\n",
              "      <td>6.8</td>\n",
              "      <td>123.0</td>\n",
              "      <td>1</td>\n",
              "    </tr>\n",
              "    <tr>\n",
              "      <th>1</th>\n",
              "      <td>1</td>\n",
              "      <td>5.9</td>\n",
              "      <td>106.0</td>\n",
              "      <td>0</td>\n",
              "    </tr>\n",
              "    <tr>\n",
              "      <th>2</th>\n",
              "      <td>2</td>\n",
              "      <td>5.3</td>\n",
              "      <td>121.0</td>\n",
              "      <td>0</td>\n",
              "    </tr>\n",
              "    <tr>\n",
              "      <th>3</th>\n",
              "      <td>3</td>\n",
              "      <td>7.4</td>\n",
              "      <td>132.0</td>\n",
              "      <td>1</td>\n",
              "    </tr>\n",
              "    <tr>\n",
              "      <th>4</th>\n",
              "      <td>4</td>\n",
              "      <td>5.8</td>\n",
              "      <td>142.0</td>\n",
              "      <td>0</td>\n",
              "    </tr>\n",
              "  </tbody>\n",
              "</table>\n",
              "</div>\n",
              "    <div class=\"colab-df-buttons\">\n",
              "\n",
              "  <div class=\"colab-df-container\">\n",
              "    <button class=\"colab-df-convert\" onclick=\"convertToInteractive('df-ca3badde-3aff-4e55-b741-62d4d2f1fa55')\"\n",
              "            title=\"Convert this dataframe to an interactive table.\"\n",
              "            style=\"display:none;\">\n",
              "\n",
              "  <svg xmlns=\"http://www.w3.org/2000/svg\" height=\"24px\" viewBox=\"0 -960 960 960\">\n",
              "    <path d=\"M120-120v-720h720v720H120Zm60-500h600v-160H180v160Zm220 220h160v-160H400v160Zm0 220h160v-160H400v160ZM180-400h160v-160H180v160Zm440 0h160v-160H620v160ZM180-180h160v-160H180v160Zm440 0h160v-160H620v160Z\"/>\n",
              "  </svg>\n",
              "    </button>\n",
              "\n",
              "  <style>\n",
              "    .colab-df-container {\n",
              "      display:flex;\n",
              "      gap: 12px;\n",
              "    }\n",
              "\n",
              "    .colab-df-convert {\n",
              "      background-color: #E8F0FE;\n",
              "      border: none;\n",
              "      border-radius: 50%;\n",
              "      cursor: pointer;\n",
              "      display: none;\n",
              "      fill: #1967D2;\n",
              "      height: 32px;\n",
              "      padding: 0 0 0 0;\n",
              "      width: 32px;\n",
              "    }\n",
              "\n",
              "    .colab-df-convert:hover {\n",
              "      background-color: #E2EBFA;\n",
              "      box-shadow: 0px 1px 2px rgba(60, 64, 67, 0.3), 0px 1px 3px 1px rgba(60, 64, 67, 0.15);\n",
              "      fill: #174EA6;\n",
              "    }\n",
              "\n",
              "    .colab-df-buttons div {\n",
              "      margin-bottom: 4px;\n",
              "    }\n",
              "\n",
              "    [theme=dark] .colab-df-convert {\n",
              "      background-color: #3B4455;\n",
              "      fill: #D2E3FC;\n",
              "    }\n",
              "\n",
              "    [theme=dark] .colab-df-convert:hover {\n",
              "      background-color: #434B5C;\n",
              "      box-shadow: 0px 1px 3px 1px rgba(0, 0, 0, 0.15);\n",
              "      filter: drop-shadow(0px 1px 2px rgba(0, 0, 0, 0.3));\n",
              "      fill: #FFFFFF;\n",
              "    }\n",
              "  </style>\n",
              "\n",
              "    <script>\n",
              "      const buttonEl =\n",
              "        document.querySelector('#df-ca3badde-3aff-4e55-b741-62d4d2f1fa55 button.colab-df-convert');\n",
              "      buttonEl.style.display =\n",
              "        google.colab.kernel.accessAllowed ? 'block' : 'none';\n",
              "\n",
              "      async function convertToInteractive(key) {\n",
              "        const element = document.querySelector('#df-ca3badde-3aff-4e55-b741-62d4d2f1fa55');\n",
              "        const dataTable =\n",
              "          await google.colab.kernel.invokeFunction('convertToInteractive',\n",
              "                                                    [key], {});\n",
              "        if (!dataTable) return;\n",
              "\n",
              "        const docLinkHtml = 'Like what you see? Visit the ' +\n",
              "          '<a target=\"_blank\" href=https://colab.research.google.com/notebooks/data_table.ipynb>data table notebook</a>'\n",
              "          + ' to learn more about interactive tables.';\n",
              "        element.innerHTML = '';\n",
              "        dataTable['output_type'] = 'display_data';\n",
              "        await google.colab.output.renderOutput(dataTable, element);\n",
              "        const docLink = document.createElement('div');\n",
              "        docLink.innerHTML = docLinkHtml;\n",
              "        element.appendChild(docLink);\n",
              "      }\n",
              "    </script>\n",
              "  </div>\n",
              "\n",
              "\n",
              "<div id=\"df-0471d017-29e4-4588-afba-89d86c12c083\">\n",
              "  <button class=\"colab-df-quickchart\" onclick=\"quickchart('df-0471d017-29e4-4588-afba-89d86c12c083')\"\n",
              "            title=\"Suggest charts.\"\n",
              "            style=\"display:none;\">\n",
              "\n",
              "<svg xmlns=\"http://www.w3.org/2000/svg\" height=\"24px\"viewBox=\"0 0 24 24\"\n",
              "     width=\"24px\">\n",
              "    <g>\n",
              "        <path d=\"M19 3H5c-1.1 0-2 .9-2 2v14c0 1.1.9 2 2 2h14c1.1 0 2-.9 2-2V5c0-1.1-.9-2-2-2zM9 17H7v-7h2v7zm4 0h-2V7h2v10zm4 0h-2v-4h2v4z\"/>\n",
              "    </g>\n",
              "</svg>\n",
              "  </button>\n",
              "\n",
              "<style>\n",
              "  .colab-df-quickchart {\n",
              "    background-color: #E8F0FE;\n",
              "    border: none;\n",
              "    border-radius: 50%;\n",
              "    cursor: pointer;\n",
              "    display: none;\n",
              "    fill: #1967D2;\n",
              "    height: 32px;\n",
              "    padding: 0 0 0 0;\n",
              "    width: 32px;\n",
              "  }\n",
              "\n",
              "  .colab-df-quickchart:hover {\n",
              "    background-color: #E2EBFA;\n",
              "    box-shadow: 0px 1px 2px rgba(60, 64, 67, 0.3), 0px 1px 3px 1px rgba(60, 64, 67, 0.15);\n",
              "    fill: #174EA6;\n",
              "  }\n",
              "\n",
              "  [theme=dark] .colab-df-quickchart {\n",
              "    background-color: #3B4455;\n",
              "    fill: #D2E3FC;\n",
              "  }\n",
              "\n",
              "  [theme=dark] .colab-df-quickchart:hover {\n",
              "    background-color: #434B5C;\n",
              "    box-shadow: 0px 1px 3px 1px rgba(0, 0, 0, 0.15);\n",
              "    filter: drop-shadow(0px 1px 2px rgba(0, 0, 0, 0.3));\n",
              "    fill: #FFFFFF;\n",
              "  }\n",
              "</style>\n",
              "\n",
              "  <script>\n",
              "    async function quickchart(key) {\n",
              "      const charts = await google.colab.kernel.invokeFunction(\n",
              "          'suggestCharts', [key], {});\n",
              "    }\n",
              "    (() => {\n",
              "      let quickchartButtonEl =\n",
              "        document.querySelector('#df-0471d017-29e4-4588-afba-89d86c12c083 button');\n",
              "      quickchartButtonEl.style.display =\n",
              "        google.colab.kernel.accessAllowed ? 'block' : 'none';\n",
              "    })();\n",
              "  </script>\n",
              "</div>\n",
              "    </div>\n",
              "  </div>\n"
            ]
          },
          "metadata": {},
          "execution_count": 20
        }
      ]
    },
    {
      "cell_type": "code",
      "source": [
        "df.info()"
      ],
      "metadata": {
        "colab": {
          "base_uri": "https://localhost:8080/"
        },
        "id": "Hk33Z_XVyhop",
        "outputId": "a1260a74-f13e-4e30-b464-6b491ce32ed9"
      },
      "execution_count": 21,
      "outputs": [
        {
          "output_type": "stream",
          "name": "stdout",
          "text": [
            "<class 'pandas.core.frame.DataFrame'>\n",
            "RangeIndex: 100 entries, 0 to 99\n",
            "Data columns (total 4 columns):\n",
            " #   Column      Non-Null Count  Dtype  \n",
            "---  ------      --------------  -----  \n",
            " 0   Unnamed: 0  100 non-null    int64  \n",
            " 1   cgpa        100 non-null    float64\n",
            " 2   iq          100 non-null    float64\n",
            " 3   placement   100 non-null    int64  \n",
            "dtypes: float64(2), int64(2)\n",
            "memory usage: 3.2 KB\n"
          ]
        }
      ]
    },
    {
      "cell_type": "code",
      "source": [
        "df.shape"
      ],
      "metadata": {
        "colab": {
          "base_uri": "https://localhost:8080/"
        },
        "id": "8IqiD4Aiyk76",
        "outputId": "a364d5a6-5f34-4dc4-cb0e-8c90d97e52ec"
      },
      "execution_count": 22,
      "outputs": [
        {
          "output_type": "execute_result",
          "data": {
            "text/plain": [
              "(100, 4)"
            ]
          },
          "metadata": {},
          "execution_count": 22
        }
      ]
    },
    {
      "cell_type": "markdown",
      "source": [
        "![image.png](data:image/png;base64,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)"
      ],
      "metadata": {
        "id": "R0jBl5GDy4Sv"
      }
    },
    {
      "cell_type": "code",
      "source": [
        "## removed Unnamed Column\n",
        "df = df.iloc[:,1:]"
      ],
      "metadata": {
        "id": "zgaBpilNypYk"
      },
      "execution_count": 23,
      "outputs": []
    },
    {
      "cell_type": "code",
      "source": [
        "df.shape"
      ],
      "metadata": {
        "colab": {
          "base_uri": "https://localhost:8080/"
        },
        "id": "6otgFbwZze9_",
        "outputId": "f1b204ce-ea26-4b34-c770-b6b39536925e"
      },
      "execution_count": 24,
      "outputs": [
        {
          "output_type": "execute_result",
          "data": {
            "text/plain": [
              "(100, 3)"
            ]
          },
          "metadata": {},
          "execution_count": 24
        }
      ]
    },
    {
      "cell_type": "code",
      "source": [
        "df.head()"
      ],
      "metadata": {
        "colab": {
          "base_uri": "https://localhost:8080/",
          "height": 206
        },
        "id": "_unJN-sxzf0m",
        "outputId": "1be08437-865b-4802-8c7a-2e95e95792cb"
      },
      "execution_count": 25,
      "outputs": [
        {
          "output_type": "execute_result",
          "data": {
            "text/plain": [
              "   cgpa     iq  placement\n",
              "0   6.8  123.0          1\n",
              "1   5.9  106.0          0\n",
              "2   5.3  121.0          0\n",
              "3   7.4  132.0          1\n",
              "4   5.8  142.0          0"
            ],
            "text/html": [
              "\n",
              "  <div id=\"df-50b081fe-09b6-4267-be48-1dab70d68bd0\" class=\"colab-df-container\">\n",
              "    <div>\n",
              "<style scoped>\n",
              "    .dataframe tbody tr th:only-of-type {\n",
              "        vertical-align: middle;\n",
              "    }\n",
              "\n",
              "    .dataframe tbody tr th {\n",
              "        vertical-align: top;\n",
              "    }\n",
              "\n",
              "    .dataframe thead th {\n",
              "        text-align: right;\n",
              "    }\n",
              "</style>\n",
              "<table border=\"1\" class=\"dataframe\">\n",
              "  <thead>\n",
              "    <tr style=\"text-align: right;\">\n",
              "      <th></th>\n",
              "      <th>cgpa</th>\n",
              "      <th>iq</th>\n",
              "      <th>placement</th>\n",
              "    </tr>\n",
              "  </thead>\n",
              "  <tbody>\n",
              "    <tr>\n",
              "      <th>0</th>\n",
              "      <td>6.8</td>\n",
              "      <td>123.0</td>\n",
              "      <td>1</td>\n",
              "    </tr>\n",
              "    <tr>\n",
              "      <th>1</th>\n",
              "      <td>5.9</td>\n",
              "      <td>106.0</td>\n",
              "      <td>0</td>\n",
              "    </tr>\n",
              "    <tr>\n",
              "      <th>2</th>\n",
              "      <td>5.3</td>\n",
              "      <td>121.0</td>\n",
              "      <td>0</td>\n",
              "    </tr>\n",
              "    <tr>\n",
              "      <th>3</th>\n",
              "      <td>7.4</td>\n",
              "      <td>132.0</td>\n",
              "      <td>1</td>\n",
              "    </tr>\n",
              "    <tr>\n",
              "      <th>4</th>\n",
              "      <td>5.8</td>\n",
              "      <td>142.0</td>\n",
              "      <td>0</td>\n",
              "    </tr>\n",
              "  </tbody>\n",
              "</table>\n",
              "</div>\n",
              "    <div class=\"colab-df-buttons\">\n",
              "\n",
              "  <div class=\"colab-df-container\">\n",
              "    <button class=\"colab-df-convert\" onclick=\"convertToInteractive('df-50b081fe-09b6-4267-be48-1dab70d68bd0')\"\n",
              "            title=\"Convert this dataframe to an interactive table.\"\n",
              "            style=\"display:none;\">\n",
              "\n",
              "  <svg xmlns=\"http://www.w3.org/2000/svg\" height=\"24px\" viewBox=\"0 -960 960 960\">\n",
              "    <path d=\"M120-120v-720h720v720H120Zm60-500h600v-160H180v160Zm220 220h160v-160H400v160Zm0 220h160v-160H400v160ZM180-400h160v-160H180v160Zm440 0h160v-160H620v160ZM180-180h160v-160H180v160Zm440 0h160v-160H620v160Z\"/>\n",
              "  </svg>\n",
              "    </button>\n",
              "\n",
              "  <style>\n",
              "    .colab-df-container {\n",
              "      display:flex;\n",
              "      gap: 12px;\n",
              "    }\n",
              "\n",
              "    .colab-df-convert {\n",
              "      background-color: #E8F0FE;\n",
              "      border: none;\n",
              "      border-radius: 50%;\n",
              "      cursor: pointer;\n",
              "      display: none;\n",
              "      fill: #1967D2;\n",
              "      height: 32px;\n",
              "      padding: 0 0 0 0;\n",
              "      width: 32px;\n",
              "    }\n",
              "\n",
              "    .colab-df-convert:hover {\n",
              "      background-color: #E2EBFA;\n",
              "      box-shadow: 0px 1px 2px rgba(60, 64, 67, 0.3), 0px 1px 3px 1px rgba(60, 64, 67, 0.15);\n",
              "      fill: #174EA6;\n",
              "    }\n",
              "\n",
              "    .colab-df-buttons div {\n",
              "      margin-bottom: 4px;\n",
              "    }\n",
              "\n",
              "    [theme=dark] .colab-df-convert {\n",
              "      background-color: #3B4455;\n",
              "      fill: #D2E3FC;\n",
              "    }\n",
              "\n",
              "    [theme=dark] .colab-df-convert:hover {\n",
              "      background-color: #434B5C;\n",
              "      box-shadow: 0px 1px 3px 1px rgba(0, 0, 0, 0.15);\n",
              "      filter: drop-shadow(0px 1px 2px rgba(0, 0, 0, 0.3));\n",
              "      fill: #FFFFFF;\n",
              "    }\n",
              "  </style>\n",
              "\n",
              "    <script>\n",
              "      const buttonEl =\n",
              "        document.querySelector('#df-50b081fe-09b6-4267-be48-1dab70d68bd0 button.colab-df-convert');\n",
              "      buttonEl.style.display =\n",
              "        google.colab.kernel.accessAllowed ? 'block' : 'none';\n",
              "\n",
              "      async function convertToInteractive(key) {\n",
              "        const element = document.querySelector('#df-50b081fe-09b6-4267-be48-1dab70d68bd0');\n",
              "        const dataTable =\n",
              "          await google.colab.kernel.invokeFunction('convertToInteractive',\n",
              "                                                    [key], {});\n",
              "        if (!dataTable) return;\n",
              "\n",
              "        const docLinkHtml = 'Like what you see? Visit the ' +\n",
              "          '<a target=\"_blank\" href=https://colab.research.google.com/notebooks/data_table.ipynb>data table notebook</a>'\n",
              "          + ' to learn more about interactive tables.';\n",
              "        element.innerHTML = '';\n",
              "        dataTable['output_type'] = 'display_data';\n",
              "        await google.colab.output.renderOutput(dataTable, element);\n",
              "        const docLink = document.createElement('div');\n",
              "        docLink.innerHTML = docLinkHtml;\n",
              "        element.appendChild(docLink);\n",
              "      }\n",
              "    </script>\n",
              "  </div>\n",
              "\n",
              "\n",
              "<div id=\"df-3654eb3a-1922-4e89-b730-a6ac37e4419b\">\n",
              "  <button class=\"colab-df-quickchart\" onclick=\"quickchart('df-3654eb3a-1922-4e89-b730-a6ac37e4419b')\"\n",
              "            title=\"Suggest charts.\"\n",
              "            style=\"display:none;\">\n",
              "\n",
              "<svg xmlns=\"http://www.w3.org/2000/svg\" height=\"24px\"viewBox=\"0 0 24 24\"\n",
              "     width=\"24px\">\n",
              "    <g>\n",
              "        <path d=\"M19 3H5c-1.1 0-2 .9-2 2v14c0 1.1.9 2 2 2h14c1.1 0 2-.9 2-2V5c0-1.1-.9-2-2-2zM9 17H7v-7h2v7zm4 0h-2V7h2v10zm4 0h-2v-4h2v4z\"/>\n",
              "    </g>\n",
              "</svg>\n",
              "  </button>\n",
              "\n",
              "<style>\n",
              "  .colab-df-quickchart {\n",
              "    background-color: #E8F0FE;\n",
              "    border: none;\n",
              "    border-radius: 50%;\n",
              "    cursor: pointer;\n",
              "    display: none;\n",
              "    fill: #1967D2;\n",
              "    height: 32px;\n",
              "    padding: 0 0 0 0;\n",
              "    width: 32px;\n",
              "  }\n",
              "\n",
              "  .colab-df-quickchart:hover {\n",
              "    background-color: #E2EBFA;\n",
              "    box-shadow: 0px 1px 2px rgba(60, 64, 67, 0.3), 0px 1px 3px 1px rgba(60, 64, 67, 0.15);\n",
              "    fill: #174EA6;\n",
              "  }\n",
              "\n",
              "  [theme=dark] .colab-df-quickchart {\n",
              "    background-color: #3B4455;\n",
              "    fill: #D2E3FC;\n",
              "  }\n",
              "\n",
              "  [theme=dark] .colab-df-quickchart:hover {\n",
              "    background-color: #434B5C;\n",
              "    box-shadow: 0px 1px 3px 1px rgba(0, 0, 0, 0.15);\n",
              "    filter: drop-shadow(0px 1px 2px rgba(0, 0, 0, 0.3));\n",
              "    fill: #FFFFFF;\n",
              "  }\n",
              "</style>\n",
              "\n",
              "  <script>\n",
              "    async function quickchart(key) {\n",
              "      const charts = await google.colab.kernel.invokeFunction(\n",
              "          'suggestCharts', [key], {});\n",
              "    }\n",
              "    (() => {\n",
              "      let quickchartButtonEl =\n",
              "        document.querySelector('#df-3654eb3a-1922-4e89-b730-a6ac37e4419b button');\n",
              "      quickchartButtonEl.style.display =\n",
              "        google.colab.kernel.accessAllowed ? 'block' : 'none';\n",
              "    })();\n",
              "  </script>\n",
              "</div>\n",
              "    </div>\n",
              "  </div>\n"
            ]
          },
          "metadata": {},
          "execution_count": 25
        }
      ]
    },
    {
      "cell_type": "code",
      "source": [
        "import matplotlib.pyplot as plt"
      ],
      "metadata": {
        "id": "MVuwtl4G0D1S"
      },
      "execution_count": 26,
      "outputs": []
    },
    {
      "cell_type": "code",
      "source": [
        "plt.scatter(df['cgpa'],df['iq'] ,c = df['placement'])"
      ],
      "metadata": {
        "colab": {
          "base_uri": "https://localhost:8080/",
          "height": 447
        },
        "id": "hqEOYbPc0SdV",
        "outputId": "f3b73f3a-b19f-453c-d8bc-092aa99860f7"
      },
      "execution_count": 29,
      "outputs": [
        {
          "output_type": "execute_result",
          "data": {
            "text/plain": [
              "<matplotlib.collections.PathCollection at 0x7c107660c160>"
            ]
          },
          "metadata": {},
          "execution_count": 29
        },
        {
          "output_type": "display_data",
          "data": {
            "text/plain": [
              "<Figure size 640x480 with 1 Axes>"
            ],
            "image/png": "[encoded data removed]"
          },
          "metadata": {}
        }
      ]
    },
    {
      "cell_type": "code",
      "source": [
        "### independent and dependent variable"
      ],
      "metadata": {
        "id": "9qogiU9m0bBD"
      },
      "execution_count": 30,
      "outputs": []
    },
    {
      "cell_type": "code",
      "source": [
        "x  = df.iloc[:,0:2]\n",
        "y = df.iloc[:,2]"
      ],
      "metadata": {
        "id": "8N_0fbrP1OoJ"
      },
      "execution_count": 31,
      "outputs": []
    },
    {
      "cell_type": "code",
      "source": [
        "x"
      ],
      "metadata": {
        "colab": {
          "base_uri": "https://localhost:8080/",
          "height": 423
        },
        "id": "l7gtLGAR1soL",
        "outputId": "f963f320-9b72-483b-ad5e-b6da18ae64cf"
      },
      "execution_count": 32,
      "outputs": [
        {
          "output_type": "execute_result",
          "data": {
            "text/plain": [
              "    cgpa     iq\n",
              "0    6.8  123.0\n",
              "1    5.9  106.0\n",
              "2    5.3  121.0\n",
              "3    7.4  132.0\n",
              "4    5.8  142.0\n",
              "..   ...    ...\n",
              "95   4.3  200.0\n",
              "96   4.4   42.0\n",
              "97   6.7  182.0\n",
              "98   6.3  103.0\n",
              "99   6.2  113.0\n",
              "\n",
              "[100 rows x 2 columns]"
            ],
            "text/html": [
              "\n",
              "  <div id=\"df-0e69a964-f24c-443f-8974-d546db206cfa\" class=\"colab-df-container\">\n",
              "    <div>\n",
              "<style scoped>\n",
              "    .dataframe tbody tr th:only-of-type {\n",
              "        vertical-align: middle;\n",
              "    }\n",
              "\n",
              "    .dataframe tbody tr th {\n",
              "        vertical-align: top;\n",
              "    }\n",
              "\n",
              "    .dataframe thead th {\n",
              "        text-align: right;\n",
              "    }\n",
              "</style>\n",
              "<table border=\"1\" class=\"dataframe\">\n",
              "  <thead>\n",
              "    <tr style=\"text-align: right;\">\n",
              "      <th></th>\n",
              "      <th>cgpa</th>\n",
              "      <th>iq</th>\n",
              "    </tr>\n",
              "  </thead>\n",
              "  <tbody>\n",
              "    <tr>\n",
              "      <th>0</th>\n",
              "      <td>6.8</td>\n",
              "      <td>123.0</td>\n",
              "    </tr>\n",
              "    <tr>\n",
              "      <th>1</th>\n",
              "      <td>5.9</td>\n",
              "      <td>106.0</td>\n",
              "    </tr>\n",
              "    <tr>\n",
              "      <th>2</th>\n",
              "      <td>5.3</td>\n",
              "      <td>121.0</td>\n",
              "    </tr>\n",
              "    <tr>\n",
              "      <th>3</th>\n",
              "      <td>7.4</td>\n",
              "      <td>132.0</td>\n",
              "    </tr>\n",
              "    <tr>\n",
              "      <th>4</th>\n",
              "      <td>5.8</td>\n",
              "      <td>142.0</td>\n",
              "    </tr>\n",
              "    <tr>\n",
              "      <th>...</th>\n",
              "      <td>...</td>\n",
              "      <td>...</td>\n",
              "    </tr>\n",
              "    <tr>\n",
              "      <th>95</th>\n",
              "      <td>4.3</td>\n",
              "      <td>200.0</td>\n",
              "    </tr>\n",
              "    <tr>\n",
              "      <th>96</th>\n",
              "      <td>4.4</td>\n",
              "      <td>42.0</td>\n",
              "    </tr>\n",
              "    <tr>\n",
              "      <th>97</th>\n",
              "      <td>6.7</td>\n",
              "      <td>182.0</td>\n",
              "    </tr>\n",
              "    <tr>\n",
              "      <th>98</th>\n",
              "      <td>6.3</td>\n",
              "      <td>103.0</td>\n",
              "    </tr>\n",
              "    <tr>\n",
              "      <th>99</th>\n",
              "      <td>6.2</td>\n",
              "      <td>113.0</td>\n",
              "    </tr>\n",
              "  </tbody>\n",
              "</table>\n",
              "<p>100 rows × 2 columns</p>\n",
              "</div>\n",
              "    <div class=\"colab-df-buttons\">\n",
              "\n",
              "  <div class=\"colab-df-container\">\n",
              "    <button class=\"colab-df-convert\" onclick=\"convertToInteractive('df-0e69a964-f24c-443f-8974-d546db206cfa')\"\n",
              "            title=\"Convert this dataframe to an interactive table.\"\n",
              "            style=\"display:none;\">\n",
              "\n",
              "  <svg xmlns=\"http://www.w3.org/2000/svg\" height=\"24px\" viewBox=\"0 -960 960 960\">\n",
              "    <path d=\"M120-120v-720h720v720H120Zm60-500h600v-160H180v160Zm220 220h160v-160H400v160Zm0 220h160v-160H400v160ZM180-400h160v-160H180v160Zm440 0h160v-160H620v160ZM180-180h160v-160H180v160Zm440 0h160v-160H620v160Z\"/>\n",
              "  </svg>\n",
              "    </button>\n",
              "\n",
              "  <style>\n",
              "    .colab-df-container {\n",
              "      display:flex;\n",
              "      gap: 12px;\n",
              "    }\n",
              "\n",
              "    .colab-df-convert {\n",
              "      background-color: #E8F0FE;\n",
              "      border: none;\n",
              "      border-radius: 50%;\n",
              "      cursor: pointer;\n",
              "      display: none;\n",
              "      fill: #1967D2;\n",
              "      height: 32px;\n",
              "      padding: 0 0 0 0;\n",
              "      width: 32px;\n",
              "    }\n",
              "\n",
              "    .colab-df-convert:hover {\n",
              "      background-color: #E2EBFA;\n",
              "      box-shadow: 0px 1px 2px rgba(60, 64, 67, 0.3), 0px 1px 3px 1px rgba(60, 64, 67, 0.15);\n",
              "      fill: #174EA6;\n",
              "    }\n",
              "\n",
              "    .colab-df-buttons div {\n",
              "      margin-bottom: 4px;\n",
              "    }\n",
              "\n",
              "    [theme=dark] .colab-df-convert {\n",
              "      background-color: #3B4455;\n",
              "      fill: #D2E3FC;\n",
              "    }\n",
              "\n",
              "    [theme=dark] .colab-df-convert:hover {\n",
              "      background-color: #434B5C;\n",
              "      box-shadow: 0px 1px 3px 1px rgba(0, 0, 0, 0.15);\n",
              "      filter: drop-shadow(0px 1px 2px rgba(0, 0, 0, 0.3));\n",
              "      fill: #FFFFFF;\n",
              "    }\n",
              "  </style>\n",
              "\n",
              "    <script>\n",
              "      const buttonEl =\n",
              "        document.querySelector('#df-0e69a964-f24c-443f-8974-d546db206cfa button.colab-df-convert');\n",
              "      buttonEl.style.display =\n",
              "        google.colab.kernel.accessAllowed ? 'block' : 'none';\n",
              "\n",
              "      async function convertToInteractive(key) {\n",
              "        const element = document.querySelector('#df-0e69a964-f24c-443f-8974-d546db206cfa');\n",
              "        const dataTable =\n",
              "          await google.colab.kernel.invokeFunction('convertToInteractive',\n",
              "                                                    [key], {});\n",
              "        if (!dataTable) return;\n",
              "\n",
              "        const docLinkHtml = 'Like what you see? Visit the ' +\n",
              "          '<a target=\"_blank\" href=https://colab.research.google.com/notebooks/data_table.ipynb>data table notebook</a>'\n",
              "          + ' to learn more about interactive tables.';\n",
              "        element.innerHTML = '';\n",
              "        dataTable['output_type'] = 'display_data';\n",
              "        await google.colab.output.renderOutput(dataTable, element);\n",
              "        const docLink = document.createElement('div');\n",
              "        docLink.innerHTML = docLinkHtml;\n",
              "        element.appendChild(docLink);\n",
              "      }\n",
              "    </script>\n",
              "  </div>\n",
              "\n",
              "\n",
              "<div id=\"df-5f6d6e33-00e3-49fd-aa4f-a091400d77c4\">\n",
              "  <button class=\"colab-df-quickchart\" onclick=\"quickchart('df-5f6d6e33-00e3-49fd-aa4f-a091400d77c4')\"\n",
              "            title=\"Suggest charts.\"\n",
              "            style=\"display:none;\">\n",
              "\n",
              "<svg xmlns=\"http://www.w3.org/2000/svg\" height=\"24px\"viewBox=\"0 0 24 24\"\n",
              "     width=\"24px\">\n",
              "    <g>\n",
              "        <path d=\"M19 3H5c-1.1 0-2 .9-2 2v14c0 1.1.9 2 2 2h14c1.1 0 2-.9 2-2V5c0-1.1-.9-2-2-2zM9 17H7v-7h2v7zm4 0h-2V7h2v10zm4 0h-2v-4h2v4z\"/>\n",
              "    </g>\n",
              "</svg>\n",
              "  </button>\n",
              "\n",
              "<style>\n",
              "  .colab-df-quickchart {\n",
              "    background-color: #E8F0FE;\n",
              "    border: none;\n",
              "    border-radius: 50%;\n",
              "    cursor: pointer;\n",
              "    display: none;\n",
              "    fill: #1967D2;\n",
              "    height: 32px;\n",
              "    padding: 0 0 0 0;\n",
              "    width: 32px;\n",
              "  }\n",
              "\n",
              "  .colab-df-quickchart:hover {\n",
              "    background-color: #E2EBFA;\n",
              "    box-shadow: 0px 1px 2px rgba(60, 64, 67, 0.3), 0px 1px 3px 1px rgba(60, 64, 67, 0.15);\n",
              "    fill: #174EA6;\n",
              "  }\n",
              "\n",
              "  [theme=dark] .colab-df-quickchart {\n",
              "    background-color: #3B4455;\n",
              "    fill: #D2E3FC;\n",
              "  }\n",
              "\n",
              "  [theme=dark] .colab-df-quickchart:hover {\n",
              "    background-color: #434B5C;\n",
              "    box-shadow: 0px 1px 3px 1px rgba(0, 0, 0, 0.15);\n",
              "    filter: drop-shadow(0px 1px 2px rgba(0, 0, 0, 0.3));\n",
              "    fill: #FFFFFF;\n",
              "  }\n",
              "</style>\n",
              "\n",
              "  <script>\n",
              "    async function quickchart(key) {\n",
              "      const charts = await google.colab.kernel.invokeFunction(\n",
              "          'suggestCharts', [key], {});\n",
              "    }\n",
              "    (() => {\n",
              "      let quickchartButtonEl =\n",
              "        document.querySelector('#df-5f6d6e33-00e3-49fd-aa4f-a091400d77c4 button');\n",
              "      quickchartButtonEl.style.display =\n",
              "        google.colab.kernel.accessAllowed ? 'block' : 'none';\n",
              "    })();\n",
              "  </script>\n",
              "</div>\n",
              "    </div>\n",
              "  </div>\n"
            ]
          },
          "metadata": {},
          "execution_count": 32
        }
      ]
    },
    {
      "cell_type": "code",
      "source": [
        "y"
      ],
      "metadata": {
        "colab": {
          "base_uri": "https://localhost:8080/"
        },
        "id": "RprxjBVb1slJ",
        "outputId": "edef9b1d-b565-40a4-b13e-60740d74eab2"
      },
      "execution_count": 33,
      "outputs": [
        {
          "output_type": "execute_result",
          "data": {
            "text/plain": [
              "0     1\n",
              "1     0\n",
              "2     0\n",
              "3     1\n",
              "4     0\n",
              "     ..\n",
              "95    0\n",
              "96    0\n",
              "97    1\n",
              "98    1\n",
              "99    1\n",
              "Name: placement, Length: 100, dtype: int64"
            ]
          },
          "metadata": {},
          "execution_count": 33
        }
      ]
    },
    {
      "cell_type": "code",
      "source": [
        "from sklearn.model_selection import train_test_split as t"
      ],
      "metadata": {
        "id": "0B8pVnBM1si1"
      },
      "execution_count": 36,
      "outputs": []
    },
    {
      "cell_type": "code",
      "source": [
        "x_train , x_test , y_train , y_test = t(x,y,test_size = 0.2 , random_state=42)"
      ],
      "metadata": {
        "id": "Q1kQsnJJ2CPu"
      },
      "execution_count": 96,
      "outputs": []
    },
    {
      "cell_type": "code",
      "source": [
        "## Scaling\n",
        "from sklearn.preprocessing import StandardScaler"
      ],
      "metadata": {
        "id": "1Asi-YvM2LaR"
      },
      "execution_count": 97,
      "outputs": []
    },
    {
      "cell_type": "code",
      "source": [
        "s = StandardScaler()"
      ],
      "metadata": {
        "id": "QXwmBq9521mx"
      },
      "execution_count": 98,
      "outputs": []
    },
    {
      "cell_type": "code",
      "source": [
        "x_train = s.fit_transform(x_train)\n",
        "print(x_train)"
      ],
      "metadata": {
        "colab": {
          "base_uri": "https://localhost:8080/"
        },
        "id": "JtjnldFX2773",
        "outputId": "ee484b68-8ae0-43bf-b083-4cc39e9f1c67"
      },
      "execution_count": 99,
      "outputs": [
        {
          "output_type": "stream",
          "name": "stdout",
          "text": [
            "[[ 1.64027754 -0.29911792]\n",
            " [-1.44090679  0.59472432]\n",
            " [ 0.91529299  1.87164179]\n",
            " [ 1.4590314  -0.93757666]\n",
            " [ 2.27463902 -0.14588782]\n",
            " [-0.80654531  1.28425975]\n",
            " [-0.98779145  0.21164907]\n",
            " [-1.44090679 -2.13787909]\n",
            " [-0.80654531 -1.5249587 ]\n",
            " [ 1.1871622  -0.24804122]\n",
            " [ 0.82466992  0.31380247]\n",
            " [-0.71592224  0.90118451]\n",
            " [-0.17218383  1.02887626]\n",
            " [-0.71592224 -0.91203831]\n",
            " [ 0.73404686 -0.35019462]\n",
            " [ 1.00591606 -1.98464899]\n",
            " [ 0.82466992 -0.75880821]\n",
            " [ 1.91214675  1.02887626]\n",
            " [ 0.73404686 -0.91203831]\n",
            " [-0.71592224  2.51010053]\n",
            " [-0.5346761   0.23718742]\n",
            " [-1.07841452  0.95226121]\n",
            " [-0.89716838 -1.60157375]\n",
            " [-1.53152986  1.89718014]\n",
            " [ 0.00906231 -0.04373442]\n",
            " [-0.71592224  0.16057237]\n",
            " [-0.5346761  -0.47788637]\n",
            " [-0.89716838 -0.88649996]\n",
            " [ 0.00906231 -0.60557811]\n",
            " [ 0.37155458 -0.24804122]\n",
            " [-1.16903758 -0.12034947]\n",
            " [ 1.27778527  0.16057237]\n",
            " [-2.43776054  1.4630282 ]\n",
            " [ 0.46217765  0.87564616]\n",
            " [ 0.09968538  0.77349276]\n",
            " [ 0.09968538 -1.14188346]\n",
            " [-0.2628069   0.44149422]\n",
            " [ 0.91529299 -1.5760354 ]\n",
            " [-0.2628069   0.36487917]\n",
            " [-0.98779145  0.64580101]\n",
            " [ 0.09968538 -1.55049705]\n",
            " [ 0.19030844 -0.32465627]\n",
            " [ 0.37155458  0.39041752]\n",
            " [ 0.73404686  0.39041752]\n",
            " [-2.25651441  2.73994568]\n",
            " [-0.89716838 -0.19696452]\n",
            " [-0.62529917 -0.29911792]\n",
            " [-1.80339906 -1.29511355]\n",
            " [ 1.1871622   0.28826412]\n",
            " [ 0.64342379  1.43748985]\n",
            " [ 0.46217765 -0.91203831]\n",
            " [-0.5346761  -0.29911792]\n",
            " [ 1.82152368 -1.19296015]\n",
            " [ 0.55280072  0.31380247]\n",
            " [ 0.28093151 -0.58003976]\n",
            " [ 0.46217765  0.10949567]\n",
            " [-1.07841452  1.10549131]\n",
            " [ 0.91529299  0.33934082]\n",
            " [-1.16903758 -1.88249559]\n",
            " [-1.07841452 -0.35019462]\n",
            " [ 0.28093151  0.05841897]\n",
            " [-0.2628069   1.10549131]\n",
            " [ 1.91214675  0.59472432]\n",
            " [ 0.91529299 -0.35019462]\n",
            " [-0.08156076 -0.50342472]\n",
            " [ 0.91529299  1.2587214 ]\n",
            " [ 1.00591606  0.64580101]\n",
            " [-0.62529917 -0.12034947]\n",
            " [-1.16903758 -0.98865336]\n",
            " [-0.2628069   0.16057237]\n",
            " [ 1.36840833  0.82456946]\n",
            " [ 0.64342379  0.72241606]\n",
            " [-0.80654531  0.05841897]\n",
            " [ 0.46217765 -2.26557084]\n",
            " [ 0.55280072 -0.14588782]\n",
            " [ 0.82466992  0.33934082]\n",
            " [ 0.09968538  0.16057237]\n",
            " [ 0.09968538 -0.58003976]\n",
            " [-0.71592224 -0.40127132]\n",
            " [-1.07841452  0.39041752]]\n"
          ]
        }
      ]
    },
    {
      "cell_type": "code",
      "source": [
        "x_test = s.fit_transform(x_test)"
      ],
      "metadata": {
        "id": "7pOj1NGb3KEm"
      },
      "execution_count": 100,
      "outputs": []
    },
    {
      "cell_type": "code",
      "source": [
        "x_test"
      ],
      "metadata": {
        "colab": {
          "base_uri": "https://localhost:8080/"
        },
        "id": "HYLnkb7m4Yqm",
        "outputId": "1b01be71-4ffb-479b-8964-0e573e9e46c7"
      },
      "execution_count": 101,
      "outputs": [
        {
          "output_type": "execute_result",
          "data": {
            "text/plain": [
              "array([[ 1.18851701,  0.36540146],\n",
              "       [ 1.82028686,  1.29418108],\n",
              "       [ 0.24086225,  0.29207675],\n",
              "       [ 0.00394856, -1.19885896],\n",
              "       [ 1.18851701, -1.32106681],\n",
              "       [-1.10164866,  0.75646656],\n",
              "       [-0.86473497,  0.12098577],\n",
              "       [-0.86473497,  1.97854502],\n",
              "       [ 0.00394856, -1.71213192],\n",
              "       [ 0.6357184 ,  0.19431047],\n",
              "       [-1.57547604, -0.36784562],\n",
              "       [ 1.26748824,  0.31651832],\n",
              "       [-0.86473497, -1.32106681],\n",
              "       [ 0.00394856,  0.82979127],\n",
              "       [ 1.03057455, -0.71002758],\n",
              "       [-0.1539939 ,  0.65870029],\n",
              "       [-0.86473497,  0.97644069],\n",
              "       [ 1.03057455, -1.58992407],\n",
              "       [-0.46987882,  0.58537558],\n",
              "       [-1.65444727, -0.14787149]])"
            ]
          },
          "metadata": {},
          "execution_count": 101
        }
      ]
    },
    {
      "cell_type": "code",
      "source": [
        "from sklearn.linear_model import LogisticRegression as LR"
      ],
      "metadata": {
        "id": "9vrTOdmD4auJ"
      },
      "execution_count": 102,
      "outputs": []
    },
    {
      "cell_type": "code",
      "source": [
        "clf = LR()"
      ],
      "metadata": {
        "id": "3c6_MGa443Hy"
      },
      "execution_count": 103,
      "outputs": []
    },
    {
      "cell_type": "code",
      "source": [
        "## training\n",
        "clf.fit(x_train ,y_train)"
      ],
      "metadata": {
        "colab": {
          "base_uri": "https://localhost:8080/",
          "height": 74
        },
        "id": "WMLovFul4-2F",
        "outputId": "7ea5331e-695b-47e4-c978-f6cd831d0096"
      },
      "execution_count": 104,
      "outputs": [
        {
          "output_type": "execute_result",
          "data": {
            "text/plain": [
              "LogisticRegression()"
            ],
            "text/html": [
              "<style>#sk-container-id-4 {color: black;background-color: white;}#sk-container-id-4 pre{padding: 0;}#sk-container-id-4 div.sk-toggleable {background-color: white;}#sk-container-id-4 label.sk-toggleable__label {cursor: pointer;display: block;width: 100%;margin-bottom: 0;padding: 0.3em;box-sizing: border-box;text-align: center;}#sk-container-id-4 label.sk-toggleable__label-arrow:before {content: \"▸\";float: left;margin-right: 0.25em;color: #696969;}#sk-container-id-4 label.sk-toggleable__label-arrow:hover:before {color: black;}#sk-container-id-4 div.sk-estimator:hover label.sk-toggleable__label-arrow:before {color: black;}#sk-container-id-4 div.sk-toggleable__content {max-height: 0;max-width: 0;overflow: hidden;text-align: left;background-color: #f0f8ff;}#sk-container-id-4 div.sk-toggleable__content pre {margin: 0.2em;color: black;border-radius: 0.25em;background-color: #f0f8ff;}#sk-container-id-4 input.sk-toggleable__control:checked~div.sk-toggleable__content {max-height: 200px;max-width: 100%;overflow: auto;}#sk-container-id-4 input.sk-toggleable__control:checked~label.sk-toggleable__label-arrow:before {content: \"▾\";}#sk-container-id-4 div.sk-estimator input.sk-toggleable__control:checked~label.sk-toggleable__label {background-color: #d4ebff;}#sk-container-id-4 div.sk-label input.sk-toggleable__control:checked~label.sk-toggleable__label {background-color: #d4ebff;}#sk-container-id-4 input.sk-hidden--visually {border: 0;clip: rect(1px 1px 1px 1px);clip: rect(1px, 1px, 1px, 1px);height: 1px;margin: -1px;overflow: hidden;padding: 0;position: absolute;width: 1px;}#sk-container-id-4 div.sk-estimator {font-family: monospace;background-color: #f0f8ff;border: 1px dotted black;border-radius: 0.25em;box-sizing: border-box;margin-bottom: 0.5em;}#sk-container-id-4 div.sk-estimator:hover {background-color: #d4ebff;}#sk-container-id-4 div.sk-parallel-item::after {content: \"\";width: 100%;border-bottom: 1px solid gray;flex-grow: 1;}#sk-container-id-4 div.sk-label:hover label.sk-toggleable__label {background-color: #d4ebff;}#sk-container-id-4 div.sk-serial::before {content: \"\";position: absolute;border-left: 1px solid gray;box-sizing: border-box;top: 0;bottom: 0;left: 50%;z-index: 0;}#sk-container-id-4 div.sk-serial {display: flex;flex-direction: column;align-items: center;background-color: white;padding-right: 0.2em;padding-left: 0.2em;position: relative;}#sk-container-id-4 div.sk-item {position: relative;z-index: 1;}#sk-container-id-4 div.sk-parallel {display: flex;align-items: stretch;justify-content: center;background-color: white;position: relative;}#sk-container-id-4 div.sk-item::before, #sk-container-id-4 div.sk-parallel-item::before {content: \"\";position: absolute;border-left: 1px solid gray;box-sizing: border-box;top: 0;bottom: 0;left: 50%;z-index: -1;}#sk-container-id-4 div.sk-parallel-item {display: flex;flex-direction: column;z-index: 1;position: relative;background-color: white;}#sk-container-id-4 div.sk-parallel-item:first-child::after {align-self: flex-end;width: 50%;}#sk-container-id-4 div.sk-parallel-item:last-child::after {align-self: flex-start;width: 50%;}#sk-container-id-4 div.sk-parallel-item:only-child::after {width: 0;}#sk-container-id-4 div.sk-dashed-wrapped {border: 1px dashed gray;margin: 0 0.4em 0.5em 0.4em;box-sizing: border-box;padding-bottom: 0.4em;background-color: white;}#sk-container-id-4 div.sk-label label {font-family: monospace;font-weight: bold;display: inline-block;line-height: 1.2em;}#sk-container-id-4 div.sk-label-container {text-align: center;}#sk-container-id-4 div.sk-container {/* jupyter's `normalize.less` sets `[hidden] { display: none; }` but bootstrap.min.css set `[hidden] { display: none !important; }` so we also need the `!important` here to be able to override the default hidden behavior on the sphinx rendered scikit-learn.org. See: https://github.com/scikit-learn/scikit-learn/issues/21755 */display: inline-block !important;position: relative;}#sk-container-id-4 div.sk-text-repr-fallback {display: none;}</style><div id=\"sk-container-id-4\" class=\"sk-top-container\"><div class=\"sk-text-repr-fallback\"><pre>LogisticRegression()</pre><b>In a Jupyter environment, please rerun this cell to show the HTML representation or trust the notebook. <br />On GitHub, the HTML representation is unable to render, please try loading this page with nbviewer.org.</b></div><div class=\"sk-container\" hidden><div class=\"sk-item\"><div class=\"sk-estimator sk-toggleable\"><input class=\"sk-toggleable__control sk-hidden--visually\" id=\"sk-estimator-id-4\" type=\"checkbox\" checked><label for=\"sk-estimator-id-4\" class=\"sk-toggleable__label sk-toggleable__label-arrow\">LogisticRegression</label><div class=\"sk-toggleable__content\"><pre>LogisticRegression()</pre></div></div></div></div></div>"
            ]
          },
          "metadata": {},
          "execution_count": 104
        }
      ]
    },
    {
      "cell_type": "code",
      "source": [
        "y_pred = clf.predict(x_test)"
      ],
      "metadata": {
        "id": "wWraE4o_5HDY"
      },
      "execution_count": 105,
      "outputs": []
    },
    {
      "cell_type": "code",
      "source": [
        "y_test"
      ],
      "metadata": {
        "colab": {
          "base_uri": "https://localhost:8080/"
        },
        "id": "VL_DWx-s5a7u",
        "outputId": "2df419e4-db10-4571-9709-b6fc05e67e46"
      },
      "execution_count": 106,
      "outputs": [
        {
          "output_type": "execute_result",
          "data": {
            "text/plain": [
              "83    1\n",
              "53    1\n",
              "70    1\n",
              "45    1\n",
              "44    1\n",
              "39    0\n",
              "22    0\n",
              "80    0\n",
              "10    1\n",
              "0     1\n",
              "18    0\n",
              "30    1\n",
              "73    0\n",
              "33    0\n",
              "90    1\n",
              "4     0\n",
              "76    0\n",
              "77    1\n",
              "12    0\n",
              "31    0\n",
              "Name: placement, dtype: int64"
            ]
          },
          "metadata": {},
          "execution_count": 106
        }
      ]
    },
    {
      "cell_type": "code",
      "source": [
        "from sklearn.metrics import accuracy_score  as ac"
      ],
      "metadata": {
        "id": "I81puOyq5c4U"
      },
      "execution_count": 107,
      "outputs": []
    },
    {
      "cell_type": "code",
      "source": [
        "ac(y_test,y_pred)"
      ],
      "metadata": {
        "colab": {
          "base_uri": "https://localhost:8080/"
        },
        "id": "klBDTQDM5rWK",
        "outputId": "9806c430-0824-4f96-a987-5d1c2d2a603d"
      },
      "execution_count": 108,
      "outputs": [
        {
          "output_type": "execute_result",
          "data": {
            "text/plain": [
              "0.85"
            ]
          },
          "metadata": {},
          "execution_count": 108
        }
      ]
    },
    {
      "cell_type": "code",
      "source": [
        "from mlxtend.plotting import plot_decision_regions"
      ],
      "metadata": {
        "id": "0Hm5GkUd5xUu"
      },
      "execution_count": 109,
      "outputs": []
    },
    {
      "cell_type": "code",
      "source": [
        "plot_decision_regions(x_train, y_train.values, clf=clf, legend=2)"
      ],
      "metadata": {
        "colab": {
          "base_uri": "https://localhost:8080/",
          "height": 447
        },
        "id": "v_108VkU64d2",
        "outputId": "0f0fceb8-58e3-4f3f-d875-33dc90f71349"
      },
      "execution_count": 110,
      "outputs": [
        {
          "output_type": "execute_result",
          "data": {
            "text/plain": [
              "<Axes: >"
            ]
          },
          "metadata": {},
          "execution_count": 110
        },
        {
          "output_type": "display_data",
          "data": {
            "text/plain": [
              "<Figure size 640x480 with 1 Axes>"
            ],
            "image/png": "[encoded data removed]"
          },
          "metadata": {}
        }
      ]
    },
    {
      "cell_type": "code",
      "source": [
        "## pickle file\n",
        "import pickle"
      ],
      "metadata": {
        "id": "ngNHP3To68SR"
      },
      "execution_count": 113,
      "outputs": []
    },
    {
      "cell_type": "code",
      "source": [
        "pickle.dump(clf ,open('model.pkl' , 'wb'))"
      ],
      "metadata": {
        "id": "XoNILIZv8WoG"
      },
      "execution_count": 114,
      "outputs": []
    },
    {
      "cell_type": "code",
      "source": [
        "model = pickle.load(open('/content/model.pkl', 'rb'))\n",
        "result= model.predict([[1.18851701,  0.36540146]])"
      ],
      "metadata": {
        "id": "9LCVqC_A8099"
      },
      "execution_count": 118,
      "outputs": []
    },
    {
      "cell_type": "code",
      "source": [
        "print(result)"
      ],
      "metadata": {
        "colab": {
          "base_uri": "https://localhost:8080/"
        },
        "id": "RnbSrRPz-c8r",
        "outputId": "9aa1015d-4c31-4595-cb0d-0a35e9e00658"
      },
      "execution_count": 119,
      "outputs": [
        {
          "output_type": "stream",
          "name": "stdout",
          "text": [
            "[1]\n"
          ]
        }
      ]
    },
    {
      "cell_type": "code",
      "source": [],
      "metadata": {
        "id": "5AGV0oUC_zWk"
      },
      "execution_count": null,
      "outputs": []
    }
  ]
}