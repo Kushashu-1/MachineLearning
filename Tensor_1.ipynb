{
  "nbformat": 4,
  "nbformat_minor": 0,
  "metadata": {
    "colab": {
      "provenance": [],
      "authorship_tag": "ABX9TyOyllrOOPWdNE/qaHfZ5n5J",
      "include_colab_link": true
    },
    "kernelspec": {
      "name": "python3",
      "display_name": "Python 3"
    },
    "language_info": {
      "name": "python"
    }
  },
  "cells": [
    {
      "cell_type": "markdown",
      "metadata": {
        "id": "view-in-github",
        "colab_type": "text"
      },
      "source": [
        "<a href=\"https://colab.research.google.com/github/Kushashu-1/MachineLearning/blob/main/Tensor_1.ipynb\" target=\"_parent\"><img src=\"https://colab.research.google.com/assets/colab-badge.svg\" alt=\"Open In Colab\"/></a>"
      ]
    },
    {
      "cell_type": "code",
      "execution_count": 1,
      "metadata": {
        "id": "5KZiyPm7Cque"
      },
      "outputs": [],
      "source": [
        "import numpy as np"
      ]
    },
    {
      "cell_type": "code",
      "source": [
        "a = np.array([[1,2],[2,3]])"
      ],
      "metadata": {
        "id": "AJIBli9YDcEo"
      },
      "execution_count": 13,
      "outputs": []
    },
    {
      "cell_type": "code",
      "source": [
        "a.ndim"
      ],
      "metadata": {
        "colab": {
          "base_uri": "https://localhost:8080/"
        },
        "id": "eNSlS9JHDlHT",
        "outputId": "23719a23-9b16-4068-a4a7-76f08719938e"
      },
      "execution_count": 14,
      "outputs": [
        {
          "output_type": "execute_result",
          "data": {
            "text/plain": [
              "2"
            ]
          },
          "metadata": {},
          "execution_count": 14
        }
      ]
    },
    {
      "cell_type": "code",
      "source": [
        "type(a)"
      ],
      "metadata": {
        "colab": {
          "base_uri": "https://localhost:8080/"
        },
        "id": "VyloikpZDnSs",
        "outputId": "2e80f97c-3ed4-4901-97b4-e5317b07a3bd"
      },
      "execution_count": 15,
      "outputs": [
        {
          "output_type": "execute_result",
          "data": {
            "text/plain": [
              "numpy.ndarray"
            ]
          },
          "metadata": {},
          "execution_count": 15
        }
      ]
    },
    {
      "cell_type": "code",
      "source": [
        "print(a)"
      ],
      "metadata": {
        "colab": {
          "base_uri": "https://localhost:8080/"
        },
        "id": "DMX-MfyMD9zQ",
        "outputId": "9df66fdb-3c1e-40dc-97e9-0edbbd77708f"
      },
      "execution_count": 16,
      "outputs": [
        {
          "output_type": "stream",
          "name": "stdout",
          "text": [
            "[[1 2]\n",
            " [2 3]]\n"
          ]
        }
      ]
    },
    {
      "cell_type": "markdown",
      "source": [],
      "metadata": {
        "id": "wlr_qhSZJ5ao"
      }
    },
    {
      "cell_type": "code",
      "source": [
        "# What is meant by persistence of vision?\n",
        "# Even after the object is removed, the impression of an object seen by the eye\n",
        "#  remains on the retina for 1/16th of a second. If we see another\n",
        "# object before this time, the impressions of the two merge to give us a\n",
        "#  sense of continuity. This eye property is known as persistence of vision."
      ],
      "metadata": {
        "id": "cxsL7g2vJ1M4"
      },
      "execution_count": 18,
      "outputs": []
    }
  ]
}